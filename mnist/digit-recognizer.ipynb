{
 "cells": [
  {
   "cell_type": "markdown",
   "metadata": {},
   "source": [
    "# Digit Recognizer\n",
    "## I will be using Tensorflow to create a neural network that learns to understand numbers"
   ]
  },
  {
   "cell_type": "code",
   "execution_count": 1,
   "metadata": {
    "collapsed": false
   },
   "outputs": [],
   "source": [
    "import csv\n",
    "import cPickle as pickle\n",
    "import matplotlib.pyplot as plt\n",
    "import numpy as np\n",
    "import os\n",
    "import theano\n",
    "import theano.tensor as T\n",
    "\n",
    "# Config the matlotlib backend as plotting inline in IPython\n",
    "%matplotlib inline"
   ]
  },
  {
   "cell_type": "code",
   "execution_count": 2,
   "metadata": {
    "collapsed": false
   },
   "outputs": [],
   "source": [
    "# Read from csv\n",
    "data = []\n",
    "with open(\"train.csv\", \"rb\") as csvfile:\n",
    "    trainreader = csv.reader(csvfile, delimiter=',', quotechar='|')\n",
    "    next(trainreader)\n",
    "    for row in trainreader:\n",
    "        data.append(row)\n",
    "data = np.array(data, dtype=float)"
   ]
  },
  {
   "cell_type": "code",
   "execution_count": 3,
   "metadata": {
    "collapsed": false
   },
   "outputs": [],
   "source": [
    "# Normalize data\n",
    "X = data[:, 1:]\n",
    "mu = np.mean(X, axis=0)\n",
    "sigma = np.std(X, axis=0)\n",
    "data[:, 1:] = np.nan_to_num((X-mu)/sigma)\n",
    "np.random.shuffle(data)"
   ]
  },
  {
   "cell_type": "code",
   "execution_count": 4,
   "metadata": {
    "collapsed": false
   },
   "outputs": [],
   "source": [
    "train = data[:33600]\n",
    "cv = data[33600:]"
   ]
  },
  {
   "cell_type": "code",
   "execution_count": 5,
   "metadata": {
    "collapsed": false
   },
   "outputs": [],
   "source": [
    "nn_input_dim = train[:, 1:].shape[1]\n",
    "nn_output_dim = 10\n",
    "num_examples = train.shape[0]"
   ]
  },
  {
   "cell_type": "code",
   "execution_count": 6,
   "metadata": {
    "collapsed": false
   },
   "outputs": [],
   "source": [
    "Xvec = T.matrix('X')\n",
    "yvec = T.lvector('y')\n",
    "W1 = None\n",
    "b1 = None\n",
    "W2 = None\n",
    "b2 = None"
   ]
  },
  {
   "cell_type": "code",
   "execution_count": 7,
   "metadata": {
    "collapsed": true
   },
   "outputs": [],
   "source": [
    "def get_grad(nn_hdim, lmbda, epsilon):\n",
    "    global W1\n",
    "    global b1\n",
    "    global W2\n",
    "    global b2\n",
    "\n",
    "    W1 = theano.shared(np.random.randn(nn_input_dim, nn_hdim)/np.sqrt(nn_input_dim), name='W1')\n",
    "    b1 = theano.shared(np.zeros(nn_hdim), name='b1')\n",
    "    W2 = theano.shared(np.random.randn(nn_hdim, nn_output_dim)/np.sqrt(nn_hdim), name='W2')\n",
    "    b2 = theano.shared(np.zeros(nn_output_dim), name='b2')\n",
    "    \n",
    "    # Feed-forward propagation\n",
    "    z1 = Xvec.dot(W1) + b1\n",
    "    a1 = T.tanh(z1)\n",
    "    z2 = a1.dot(W2) + b2\n",
    "    prob = T.nnet.softmax(z2)\n",
    "    prediction = T.argmax(prob, axis=1)\n",
    "    \n",
    "    # Cost Function\n",
    "    reg_loss = 1./num_examples * lmbda/2 * (T.sum(T.sqr(W1)) + T.sum(T.sqr(W2)))\n",
    "    loss = T.nnet.categorical_crossentropy(prob, yvec).mean() + reg_loss\n",
    "    \n",
    "    # Back Propagation\n",
    "    dW1 = T.grad(loss, W1)\n",
    "    db1 = T.grad(loss, b1)\n",
    "    dW2 = T.grad(loss, W2)\n",
    "    db2 = T.grad(loss, b2)\n",
    "    \n",
    "    forward_prop = theano.function([Xvec], prob)\n",
    "    calculate_loss = theano.function([Xvec, yvec], loss)\n",
    "    predict = theano.function([Xvec], prediction)\n",
    "\n",
    "    gradient_step = theano.function(\n",
    "        [Xvec, yvec], loss,\n",
    "        updates=((W2, W2 - epsilon * dW2),\n",
    "                 (W1, W1 - epsilon * dW1),\n",
    "                 (b2, b2 - epsilon * db2),\n",
    "                 (b1, b1 - epsilon * db1)))\n",
    "    return calculate_loss, gradient_step"
   ]
  },
  {
   "cell_type": "markdown",
   "metadata": {},
   "source": [
    "## Train function"
   ]
  },
  {
   "cell_type": "code",
   "execution_count": 8,
   "metadata": {
    "collapsed": true
   },
   "outputs": [],
   "source": [
    "Xcv, ycv = cv[:, 1:], cv[:, 0]\n",
    "\n",
    "def train_func(num_examples, calculate_loss, gradient_step, nn_hdim, printint, it, printloss):\n",
    "    global W1\n",
    "    global b1\n",
    "    global W2\n",
    "    global b2\n",
    "\n",
    "    W1 = theano.shared(np.random.randn(nn_input_dim, nn_hdim)/np.sqrt(nn_input_dim), name='W1')\n",
    "    b1 = theano.shared(np.zeros(nn_hdim), name='b1')\n",
    "    W2 = theano.shared(np.random.randn(nn_hdim, nn_output_dim)/np.sqrt(nn_hdim), name='W2')\n",
    "    b2 = theano.shared(np.zeros(nn_output_dim), name='b2')\n",
    "    \n",
    "    Xtrain, ytrain = train[:num_examples, 1:], train[:num_examples, 0]        \n",
    "    \n",
    "    if num_examples == 0:\n",
    "        if printloss: print(\"Number of examples: %d\\nIteration #: %d\\nTraining Cost: %f\\n\" % (num_examples, 0, 0.0))\n",
    "        return 0, calculate_loss(Xcv, np.array(ycv, dtype=int))\n",
    "    \n",
    "    for i in range(it):\n",
    "        train_cost = gradient_step(Xtrain, np.array(ytrain, dtype=int))\n",
    "        \n",
    "        if printloss and (i+1)%printint == 0:\n",
    "            print(\"Number of examples: %d\\nIteration #: %d\\nTraining Cost: %f\\n\" % (num_examples, i+1, train_cost))\n",
    "\n",
    "        cv_cost = calculate_loss(Xcv, np.array(ycv, dtype=int))\n",
    "    return train_cost, cv_cost"
   ]
  },
  {
   "cell_type": "code",
   "execution_count": 9,
   "metadata": {
    "collapsed": true
   },
   "outputs": [],
   "source": [
    "def show_learning(calculate_loss, gradient_step, nn_hdim, pfile=None, it=5000, printloss=False, printint=1000):\n",
    "    global W1\n",
    "    global b1\n",
    "    global W2\n",
    "    global b2\n",
    "\n",
    "    if pfile and os.path.isfile(pfile):\n",
    "        with open(pfile, \"rb\") as f:\n",
    "            data = pickle.load(f)\n",
    "            W1 = data[\"W1\"]\n",
    "            b1 = data[\"b1\"]\n",
    "            W2 = data[\"W2\"]\n",
    "            b2 = data[\"b2\"]\n",
    "            m_list = data[\"m\"]\n",
    "            train_cost_list = data[\"train_cost\"]\n",
    "            cv_cost_list = data[\"cv_cost\"]\n",
    "    else:\n",
    "        m_list = []\n",
    "        train_cost_list = []\n",
    "        cv_cost_list = []\n",
    "\n",
    "        for i in range(0, train.shape[0], 1000):\n",
    "            train_cost, cv_cost = train_func(i, calculate_loss, gradient_step, nn_hdim, printint, it, printloss)\n",
    "            m_list.append(i)\n",
    "            train_cost_list.append(train_cost)\n",
    "            cv_cost_list.append(cv_cost)\n",
    "\n",
    "        with open(pfile, \"wb\") as f:\n",
    "            data = {\"W1\": W1.get_value(), \"b1\": b1.get_value(), \"W2\": W2.get_value(), \"b2\": b2.get_value(), \n",
    "                    \"m\": m_list, \"train_cost\": train_cost_list, \"cv_cost\": cv_cost_list}\n",
    "            pickle.dump(data, f, pickle.HIGHEST_PROTOCOL)\n",
    "    \n",
    "    plt.xlabel(\"m\")\n",
    "    plt.ylabel(\"Cost\")\n",
    "    plt.plot(m_list, train_cost_list, c=\"r\", label=\"Training Cost\")\n",
    "    plt.plot(m_list, cv_cost_list, c=\"g\", label=\"Cross Validation Cost\")\n",
    "    plt.show()"
   ]
  },
  {
   "cell_type": "markdown",
   "metadata": {},
   "source": [
    "### Run #1 with the following parameters:"
   ]
  },
  {
   "cell_type": "code",
   "execution_count": 10,
   "metadata": {
    "collapsed": true
   },
   "outputs": [],
   "source": [
    "nn_hdim = 3\n",
    "lmbda = 0.5\n",
    "epsilon = 0.5"
   ]
  },
  {
   "cell_type": "code",
   "execution_count": 11,
   "metadata": {
    "collapsed": false
   },
   "outputs": [
    {
     "data": {
      "image/png": "[encoded data removed]",
      "text/plain": [
       "<matplotlib.figure.Figure at 0x7fa5c05c7b90>"
      ]
     },
     "metadata": {},
     "output_type": "display_data"
    }
   ],
   "source": [
    "calculate_loss, gradient_step = get_grad(nn_hdim, lmbda, epsilon)\n",
    "show_learning(calculate_loss, gradient_step, nn_hdim, pfile=\"first.pickle\", it=500)"
   ]
  },
  {
   "cell_type": "markdown",
   "metadata": {},
   "source": [
    "### Run #2 with the following parameters:"
   ]
  },
  {
   "cell_type": "code",
   "execution_count": 12,
   "metadata": {
    "collapsed": true
   },
   "outputs": [],
   "source": [
    "nn_hdim = 5\n",
    "lmbda = 0.5\n",
    "epsilon = 0.5"
   ]
  },
  {
   "cell_type": "code",
   "execution_count": 13,
   "metadata": {
    "collapsed": false
   },
   "outputs": [
    {
     "data": {
      "image/png": "[encoded data removed]",
      "text/plain": [
       "<matplotlib.figure.Figure at 0x7fa5b68c5490>"
      ]
     },
     "metadata": {},
     "output_type": "display_data"
    }
   ],
   "source": [
    "calculate_loss, gradient_step = get_grad(nn_hdim, lmbda, epsilon)\n",
    "show_learning(calculate_loss, gradient_step, nn_hdim, pfile=\"second.pickle\", it=500)"
   ]
  }
 ],
 "metadata": {
  "kernelspec": {
   "display_name": "Python 2",
   "language": "python",
   "name": "python2"
  },
  "language_info": {
   "codemirror_mode": {
    "name": "ipython",
    "version": 2
   },
   "file_extension": ".py",
   "mimetype": "text/x-python",
   "name": "python",
   "nbconvert_exporter": "python",
   "pygments_lexer": "ipython2",
   "version": "2.7.11"
  }
 },
 "nbformat": 4,
 "nbformat_minor": 0
}
