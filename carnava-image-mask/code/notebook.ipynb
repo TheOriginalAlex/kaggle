{
 "cells": [
  {
   "cell_type": "code",
   "execution_count": 1,
   "metadata": {
    "_cell_guid": "489ed43a-8bb4-4091-aa7c-c5aaaf035595",
    "_uuid": "740c61afcdd7389cac7116ffa5299cd691f82384"
   },
   "outputs": [
    {
     "name": "stdout",
     "output_type": "stream",
     "text": [
      "metadata.csv\n",
      "train\n",
      "train_masks\n",
      "\n"
     ]
    }
   ],
   "source": [
    "# This Python 3 environment comes with many helpful analytics libraries installed\n",
    "# It is defined by the kaggle/python docker image: https://github.com/kaggle/docker-python\n",
    "# For example, here's several helpful packages to load in \n",
    "\n",
    "import numpy as np # linear algebra\n",
    "import pandas as pd # data processing, CSV file I/O (e.g. pd.read_csv)\n",
    "import os\n",
    "import tensorflow as tf\n",
    "from scipy.misc import imread\n",
    "import matplotlib\n",
    "%matplotlib inline\n",
    "\n",
    "metadata = pd.read_csv('../input/metadata.csv')\n",
    "\n",
    "# Input data files are available in the \"../input/\" directory.\n",
    "# For example, running this (by clicking run or pressing Shift+Enter) will list the files in the input directory\n",
    "\n",
    "from subprocess import check_output\n",
    "print(check_output([\"ls\", \"../input\"]).decode(\"utf8\"))\n",
    "# Any results you write to the current directory are saved as output."
   ]
  },
  {
   "cell_type": "code",
   "execution_count": 2,
   "metadata": {
    "_cell_guid": "f9a82c23-b41e-49ce-a876-9fdfe667952b",
    "_uuid": "c636c4c50ba45fe6ba3fac0f9d392b2e555c2799"
   },
   "outputs": [
    {
     "ename": "TypeError",
     "evalue": "write() argument must be str, not bytes",
     "output_type": "error",
     "traceback": [
      "\u001b[0;31m---------------------------------------------------------------------------\u001b[0m",
      "\u001b[0;31mTypeError\u001b[0m                                 Traceback (most recent call last)",
      "\u001b[0;32m<ipython-input-2-92ccd5fc8799>\u001b[0m in \u001b[0;36m<module>\u001b[0;34m()\u001b[0m\n\u001b[1;32m     26\u001b[0m \u001b[0;34m\u001b[0m\u001b[0m\n\u001b[1;32m     27\u001b[0m         \u001b[0;32mwith\u001b[0m \u001b[0mopen\u001b[0m\u001b[0;34m(\u001b[0m\u001b[0mbatch_file\u001b[0m\u001b[0;34m,\u001b[0m \u001b[0;34m'w+'\u001b[0m\u001b[0;34m)\u001b[0m \u001b[0;32mas\u001b[0m \u001b[0mfile\u001b[0m\u001b[0;34m:\u001b[0m\u001b[0;34m\u001b[0m\u001b[0m\n\u001b[0;32m---> 28\u001b[0;31m             \u001b[0mpickle\u001b[0m\u001b[0;34m.\u001b[0m\u001b[0mdump\u001b[0m\u001b[0;34m(\u001b[0m\u001b[0;34m{\u001b[0m\u001b[0;34m\"images\"\u001b[0m\u001b[0;34m:\u001b[0m \u001b[0mbatch_images\u001b[0m\u001b[0;34m,\u001b[0m \u001b[0;34m\"masks\"\u001b[0m\u001b[0;34m:\u001b[0m \u001b[0mbatch_masks\u001b[0m\u001b[0;34m}\u001b[0m\u001b[0;34m,\u001b[0m \u001b[0mfile\u001b[0m\u001b[0;34m)\u001b[0m\u001b[0;34m\u001b[0m\u001b[0m\n\u001b[0m\u001b[1;32m     29\u001b[0m \u001b[0;34m\u001b[0m\u001b[0m\n\u001b[1;32m     30\u001b[0m         \u001b[0mcount\u001b[0m \u001b[0;34m+=\u001b[0m \u001b[0;36m1\u001b[0m\u001b[0;34m\u001b[0m\u001b[0m\n",
      "\u001b[0;31mTypeError\u001b[0m: write() argument must be str, not bytes"
     ]
    }
   ],
   "source": [
    "import pickle\n",
    "\n",
    "def _batch_image(file):\n",
    "    image = imread(file)/255\n",
    "    mask_file = file.split('/')[-1].split('.')[0] + \"_mask.gif\"\n",
    "    mask_file = os.path.join('../input/train_masks', mask_file)\n",
    "    mask = imread(mask_file)/255\n",
    "    return image, mask\n",
    "\n",
    "train_files = np.array([os.path.join(\"../input/train\", f) for f in os.listdir(\"../input/train\")])\n",
    "\n",
    "if not os.path.exists(\"../batches\"):\n",
    "    os.makedirs(\"../batches\")\n",
    "    batch_file_size = int(len(train_files)/50)\n",
    "\n",
    "    count = 1\n",
    "    for batch in range(batch_file_size, len(train_files), batch_file_size):\n",
    "        batch_file = os.path.join(\"../batches\", str(count)+\".pickle\")\n",
    "        batch_images = np.zeros((batch_file_size, 1280, 1918, 3), dtype=np.float32)\n",
    "        batch_masks = np.zeros((batch_file_size, 1280, 1918, 3), dtype=np.float32)\n",
    "\n",
    "        start = batch - batch_file_size\n",
    "        end = batch\n",
    "        for i, file in enumerate(train_files[start:end]):\n",
    "            batch_images[i], batch_masks[i] = _batch_image(file)\n",
    "        \n",
    "        with open(batch_file, 'w+') as file:\n",
    "            pickle.dump({\"images\": batch_images, \"masks\": batch_masks}, file)\n",
    "\n",
    "        count += 1"
   ]
  },
  {
   "cell_type": "code",
   "execution_count": null,
   "metadata": {
    "_cell_guid": "0fe4bfdd-e22e-4d09-bebc-5b30cb293615",
    "_uuid": "76dfddf22a2999ab25e334f4151d5526acc09601",
    "collapsed": true
   },
   "outputs": [],
   "source": [
    "# Hyperparams\n",
    "batch_size = 50\n",
    "iterations = 1000\n",
    "\n",
    "# Start a new session to show example output.\n",
    "sess = tf.Session()\n",
    "# Required to get the filename matching to run.\n",
    "sess.run(tf.global_variables_initializer())\n",
    "for i in range(iterations):\n",
    "    indxs = np.random.choice(len(train_files), batch_size)\n",
    "    batch_files = train_files[indxs]\n",
    "    batch_images = np.zeros((len(batch_files), 1280, 1918, 3), dtype=np.float32)\n",
    "    batch_labels = np.zeros((len(batch_files), 1280, 1918, 3), dtype=np.float32)\n",
    "    for i, file in enumerate(batch_files):\n",
    "        batch_images[i] = imread(file)/255\n",
    "        mask_file = file.split('/')[-1].split('.')[0] + \"_mask.gif\"\n",
    "        mask_file = os.path.join('../input/train_masks', mask_file)\n",
    "        batch_labels[i] = imread(mask_file)/255\n"
   ]
  },
  {
   "cell_type": "code",
   "execution_count": null,
   "metadata": {
    "_cell_guid": "20a2cf49-2058-4a1c-a4b9-234d5c7d2ba9",
    "_uuid": "c40680d42b69bd3644721af329aa016e0ca76aff",
    "collapsed": true
   },
   "outputs": [],
   "source": []
  }
 ],
 "metadata": {
  "kernelspec": {
   "display_name": "Python 3",
   "language": "python",
   "name": "python3"
  },
  "language_info": {
   "codemirror_mode": {
    "name": "ipython",
    "version": 3
   },
   "file_extension": ".py",
   "mimetype": "text/x-python",
   "name": "python",
   "nbconvert_exporter": "python",
   "pygments_lexer": "ipython3",
   "version": "3.6.2"
  }
 },
 "nbformat": 4,
 "nbformat_minor": 1
}
